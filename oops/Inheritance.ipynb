{
 "cells": [
  {
   "cell_type": "code",
   "execution_count": 14,
   "id": "56769b40",
   "metadata": {},
   "outputs": [],
   "source": [
    "class Animal:\n",
    "    def __init__(self,name,sound):\n",
    "        self.name=name\n",
    "        self.sound=sound\n",
    "    def makesound(self):\n",
    "        print(f\"{self.name} makes a {self.sound}\")\n",
    "class Dog(Animal):\n",
    "    def __init__(self,name,sound,breed):\n",
    "        super().__init__(name,sound)\n",
    "        self.breed=breed\n",
    "    def wag_tail(self):\n",
    "        print(f\"the dog {self.name} is wagging its tail\")\n",
    "        "
   ]
  },
  {
   "cell_type": "code",
   "execution_count": 15,
   "id": "35f19044",
   "metadata": {},
   "outputs": [],
   "source": [
    "lion=Animal(\"simba\",\"roar\")"
   ]
  },
  {
   "cell_type": "code",
   "execution_count": 16,
   "id": "50747971",
   "metadata": {},
   "outputs": [
    {
     "name": "stdout",
     "output_type": "stream",
     "text": [
      "simba makes a roar\n"
     ]
    }
   ],
   "source": [
    "lion.makesound()"
   ]
  },
  {
   "cell_type": "code",
   "execution_count": 17,
   "id": "e32a70b4",
   "metadata": {},
   "outputs": [],
   "source": [
    "dog=Dog(\"Brownie\",\"bark\",\"labrador\")"
   ]
  },
  {
   "cell_type": "code",
   "execution_count": 18,
   "id": "ac500522",
   "metadata": {},
   "outputs": [
    {
     "name": "stdout",
     "output_type": "stream",
     "text": [
      "Brownie makes a bark\n"
     ]
    }
   ],
   "source": [
    "dog.makesound()"
   ]
  },
  {
   "cell_type": "code",
   "execution_count": 19,
   "id": "97e6e97a",
   "metadata": {},
   "outputs": [
    {
     "name": "stdout",
     "output_type": "stream",
     "text": [
      "the dog Brownie is wagging its tail\n"
     ]
    }
   ],
   "source": [
    "dog.wag_tail()"
   ]
  },
  {
   "cell_type": "code",
   "execution_count": null,
   "id": "32397367",
   "metadata": {},
   "outputs": [],
   "source": []
  }
 ],
 "metadata": {
  "kernelspec": {
   "display_name": "Python 3 (ipykernel)",
   "language": "python",
   "name": "python3"
  },
  "language_info": {
   "codemirror_mode": {
    "name": "ipython",
    "version": 3
   },
   "file_extension": ".py",
   "mimetype": "text/x-python",
   "name": "python",
   "nbconvert_exporter": "python",
   "pygments_lexer": "ipython3",
   "version": "3.9.12"
  }
 },
 "nbformat": 4,
 "nbformat_minor": 5
}
