{
 "cells": [
  {
   "cell_type": "code",
   "execution_count": 1,
   "id": "276be8be",
   "metadata": {},
   "outputs": [],
   "source": [
    "def my_decorator(func):\n",
    "    def rapper():\n",
    "        print(\"upper statement\")\n",
    "        func()\n",
    "        print(\"Lower statement\")\n",
    "    return rapper\n"
   ]
  },
  {
   "cell_type": "code",
   "execution_count": 2,
   "id": "bc61a774",
   "metadata": {},
   "outputs": [],
   "source": [
    "@my_decorator\n",
    "def greet():\n",
    "    print(\"This is the greet function\")"
   ]
  },
  {
   "cell_type": "code",
   "execution_count": 3,
   "id": "b2aada85",
   "metadata": {},
   "outputs": [
    {
     "name": "stdout",
     "output_type": "stream",
     "text": [
      "upper statement\n",
      "This is the greet function\n",
      "Lower statement\n"
     ]
    }
   ],
   "source": [
    "greet()"
   ]
  },
  {
   "cell_type": "code",
   "execution_count": 4,
   "id": "bf20b4c9",
   "metadata": {},
   "outputs": [],
   "source": [
    "import time"
   ]
  },
  {
   "cell_type": "code",
   "execution_count": 5,
   "id": "93b882ff",
   "metadata": {},
   "outputs": [],
   "source": [
    "def timing(func):\n",
    "    def wrapper():\n",
    "        start_time=time.time()\n",
    "        val=func()\n",
    "        end_time=time.time()\n",
    "        print(f\"The execution time will be {end_time-start_time}\")\n",
    "        return val\n",
    "    return wrapper\n",
    "@timing\n",
    "def slow_function():\n",
    "    print(\"slow function is being called\")\n",
    "    time.sleep(2)\n"
   ]
  },
  {
   "cell_type": "code",
   "execution_count": 6,
   "id": "653fcd2e",
   "metadata": {},
   "outputs": [
    {
     "name": "stdout",
     "output_type": "stream",
     "text": [
      "slow function is being called\n",
      "The execution time will be 2.009019613265991\n"
     ]
    }
   ],
   "source": [
    "slow_function()"
   ]
  },
  {
   "cell_type": "code",
   "execution_count": 7,
   "id": "8d0ace02",
   "metadata": {},
   "outputs": [],
   "source": [
    "#property decorator"
   ]
  },
  {
   "cell_type": "code",
   "execution_count": 8,
   "id": "a0f0e58b",
   "metadata": {},
   "outputs": [],
   "source": [
    "#these are used to set dget and delete values of an object"
   ]
  },
  {
   "cell_type": "code",
   "execution_count": 1,
   "id": "6b177e2e",
   "metadata": {},
   "outputs": [],
   "source": [
    "class Person:\n",
    "    def __init__(self,name,age):\n",
    "        self.name=name\n",
    "        self._age=age\n",
    "    \n",
    "    @property\n",
    "    def age(self):\n",
    "        return self._age\n",
    "    \n",
    "    @age.setter\n",
    "    def age(self,new_age):\n",
    "        self._age=new_age\n",
    "    \n",
    "    @age.deleter\n",
    "    def age(self):\n",
    "        del self._age\n",
    "        "
   ]
  },
  {
   "cell_type": "code",
   "execution_count": 2,
   "id": "2c17aeb1",
   "metadata": {},
   "outputs": [],
   "source": [
    "p1=Person(\"Arihant\",21)"
   ]
  },
  {
   "cell_type": "code",
   "execution_count": 3,
   "id": "89263746",
   "metadata": {},
   "outputs": [
    {
     "data": {
      "text/plain": [
       "21"
      ]
     },
     "execution_count": 3,
     "metadata": {},
     "output_type": "execute_result"
    }
   ],
   "source": [
    "p1.age"
   ]
  },
  {
   "cell_type": "code",
   "execution_count": 4,
   "id": "e0a5a0df",
   "metadata": {},
   "outputs": [],
   "source": [
    "p1.age=22\n"
   ]
  },
  {
   "cell_type": "code",
   "execution_count": 5,
   "id": "cb27fcde",
   "metadata": {},
   "outputs": [
    {
     "data": {
      "text/plain": [
       "22"
      ]
     },
     "execution_count": 5,
     "metadata": {},
     "output_type": "execute_result"
    }
   ],
   "source": [
    "p1.age"
   ]
  },
  {
   "cell_type": "code",
   "execution_count": 6,
   "id": "01fbd219",
   "metadata": {},
   "outputs": [],
   "source": [
    "del p1.age"
   ]
  },
  {
   "cell_type": "code",
   "execution_count": 7,
   "id": "5581f851",
   "metadata": {},
   "outputs": [
    {
     "ename": "AttributeError",
     "evalue": "'Person' object has no attribute '_age'",
     "output_type": "error",
     "traceback": [
      "\u001b[1;31m---------------------------------------------------------------------------\u001b[0m",
      "\u001b[1;31mAttributeError\u001b[0m                            Traceback (most recent call last)",
      "Input \u001b[1;32mIn [7]\u001b[0m, in \u001b[0;36m<cell line: 1>\u001b[1;34m()\u001b[0m\n\u001b[1;32m----> 1\u001b[0m \u001b[43mp1\u001b[49m\u001b[38;5;241;43m.\u001b[39;49m\u001b[43mage\u001b[49m\n",
      "Input \u001b[1;32mIn [1]\u001b[0m, in \u001b[0;36mPerson.age\u001b[1;34m(self)\u001b[0m\n\u001b[0;32m      6\u001b[0m \u001b[38;5;129m@property\u001b[39m\n\u001b[0;32m      7\u001b[0m \u001b[38;5;28;01mdef\u001b[39;00m \u001b[38;5;21mage\u001b[39m(\u001b[38;5;28mself\u001b[39m):\n\u001b[1;32m----> 8\u001b[0m     \u001b[38;5;28;01mreturn\u001b[39;00m \u001b[38;5;28;43mself\u001b[39;49m\u001b[38;5;241;43m.\u001b[39;49m\u001b[43m_age\u001b[49m\n",
      "\u001b[1;31mAttributeError\u001b[0m: 'Person' object has no attribute '_age'"
     ]
    }
   ],
   "source": [
    "p1.age # the attribute will not exist as it is now been deleted"
   ]
  },
  {
   "cell_type": "code",
   "execution_count": null,
   "id": "3e9d5e65",
   "metadata": {},
   "outputs": [],
   "source": []
  }
 ],
 "metadata": {
  "kernelspec": {
   "display_name": "Python 3 (ipykernel)",
   "language": "python",
   "name": "python3"
  },
  "language_info": {
   "codemirror_mode": {
    "name": "ipython",
    "version": 3
   },
   "file_extension": ".py",
   "mimetype": "text/x-python",
   "name": "python",
   "nbconvert_exporter": "python",
   "pygments_lexer": "ipython3",
   "version": "3.9.12"
  }
 },
 "nbformat": 4,
 "nbformat_minor": 5
}
