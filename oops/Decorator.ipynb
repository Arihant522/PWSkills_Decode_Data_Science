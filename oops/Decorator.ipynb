{
 "cells": [
  {
   "cell_type": "code",
   "execution_count": 1,
   "id": "4cad2e5c",
   "metadata": {},
   "outputs": [],
   "source": [
    "def my_decorator(func):\n",
    "    def rapper():\n",
    "        print(\"upper statement\")\n",
    "        func()\n",
    "        print(\"Lower statement\")\n",
    "    return rapper\n"
   ]
  },
  {
   "cell_type": "code",
   "execution_count": 2,
   "id": "4c16795f",
   "metadata": {},
   "outputs": [],
   "source": [
    "@my_decorator\n",
    "def greet():\n",
    "    print(\"This is the greet function\")"
   ]
  },
  {
   "cell_type": "code",
   "execution_count": 3,
   "id": "ef368fc7",
   "metadata": {},
   "outputs": [
    {
     "name": "stdout",
     "output_type": "stream",
     "text": [
      "upper statement\n",
      "This is the greet function\n",
      "Lower statement\n"
     ]
    }
   ],
   "source": [
    "greet()"
   ]
  },
  {
   "cell_type": "code",
   "execution_count": 4,
   "id": "61e95e1f",
   "metadata": {},
   "outputs": [],
   "source": [
    "import time"
   ]
  },
  {
   "cell_type": "code",
   "execution_count": 5,
   "id": "e7dd68b4",
   "metadata": {},
   "outputs": [],
   "source": [
    "def timing(func):\n",
    "    def wrapper():\n",
    "        start_time=time.time()\n",
    "        val=func()\n",
    "        end_time=time.time()\n",
    "        print(f\"The execution time will be {end_time-start_time}\")\n",
    "        return val\n",
    "    return wrapper\n",
    "@timing\n",
    "def slow_function():\n",
    "    print(\"slow function is being called\")\n",
    "    time.sleep(2)\n"
   ]
  },
  {
   "cell_type": "code",
   "execution_count": 6,
   "id": "3546d5f7",
   "metadata": {},
   "outputs": [
    {
     "name": "stdout",
     "output_type": "stream",
     "text": [
      "slow function is being called\n",
      "The execution time will be 2.009019613265991\n"
     ]
    }
   ],
   "source": [
    "slow_function()"
   ]
  },
  {
   "cell_type": "code",
   "execution_count": 7,
   "id": "5366c34b",
   "metadata": {},
   "outputs": [],
   "source": [
    "#property decorator"
   ]
  },
  {
   "cell_type": "code",
   "execution_count": 8,
   "id": "478e0b7f",
   "metadata": {},
   "outputs": [],
   "source": [
    "#these are used to set dget and delete values of an object"
   ]
  },
  {
   "cell_type": "code",
   "execution_count": 4,
   "id": "a46eb303",
   "metadata": {},
   "outputs": [],
   "source": [
    "class Person:\n",
    "    def __init__(self,name,age):\n",
    "        self.name=name\n",
    "        self._age=age\n",
    "    \n",
    "    @property\n",
    "    def age(self):\n",
    "        return self.age\n",
    "    \n",
    "    @age.setter\n",
    "    def age(self,new_age):\n",
    "        self._age=new_age\n",
    "    \n",
    "    @age.deleter\n",
    "    def age(self):\n",
    "        del self._age\n",
    "        "
   ]
  },
  {
   "cell_type": "code",
   "execution_count": 5,
   "id": "cd5dc38e",
   "metadata": {},
   "outputs": [],
   "source": [
    "p1=Person(\"Arihant\",21)"
   ]
  },
  {
   "cell_type": "code",
   "execution_count": null,
   "id": "671688d7",
   "metadata": {},
   "outputs": [],
   "source": [
    "p1.age"
   ]
  },
  {
   "cell_type": "code",
   "execution_count": null,
   "id": "1743b012",
   "metadata": {},
   "outputs": [],
   "source": []
  }
 ],
 "metadata": {
  "kernelspec": {
   "display_name": "Python 3 (ipykernel)",
   "language": "python",
   "name": "python3"
  },
  "language_info": {
   "codemirror_mode": {
    "name": "ipython",
    "version": 3
   },
   "file_extension": ".py",
   "mimetype": "text/x-python",
   "name": "python",
   "nbconvert_exporter": "python",
   "pygments_lexer": "ipython3",
   "version": "3.9.12"
  }
 },
 "nbformat": 4,
 "nbformat_minor": 5
}
