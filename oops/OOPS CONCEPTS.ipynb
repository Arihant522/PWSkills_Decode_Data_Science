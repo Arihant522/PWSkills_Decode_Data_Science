{
 "cells": [
  {
   "cell_type": "code",
   "execution_count": 5,
   "id": "c97ea35e",
   "metadata": {},
   "outputs": [],
   "source": [
    "class Player:\n",
    "    def __init__(self,name,health,power):\n",
    "        self.name=name\n",
    "        self.health=health\n",
    "        self.power=power\n",
    "    def attack(self,player):\n",
    "        print(f\"{self.name} attacked {player.name}\")\n"
   ]
  },
  {
   "cell_type": "code",
   "execution_count": 6,
   "id": "4146dd6e",
   "metadata": {},
   "outputs": [
    {
     "name": "stdout",
     "output_type": "stream",
     "text": [
      "Bheem attacked Kalia\n"
     ]
    }
   ],
   "source": [
    "player1=Player(\"Bheem\",100,20)\n",
    "player2=Player(\"Kalia\",120,40)\n",
    "player1.attack(player2)"
   ]
  },
  {
   "cell_type": "code",
   "execution_count": 7,
   "id": "feebca1e",
   "metadata": {},
   "outputs": [],
   "source": [
    "class Dog:\n",
    "    def __init__(self,name,age):\n",
    "        self.name=name\n",
    "        self.age=age\n",
    "    def details(self):\n",
    "        print(f\"{self.name} has a age of {self.age}\")\n"
   ]
  },
  {
   "cell_type": "code",
   "execution_count": 8,
   "id": "4847b804",
   "metadata": {},
   "outputs": [],
   "source": [
    "mydog=Dog(\"Bownie\",3)"
   ]
  },
  {
   "cell_type": "code",
   "execution_count": 9,
   "id": "68d5ec35",
   "metadata": {},
   "outputs": [
    {
     "name": "stdout",
     "output_type": "stream",
     "text": [
      "Bownie has a age of 3\n"
     ]
    }
   ],
   "source": [
    "mydog.details()"
   ]
  },
  {
   "cell_type": "markdown",
   "id": "4359ccb3",
   "metadata": {},
   "source": [
    "# Pillars of oops"
   ]
  },
  {
   "cell_type": "code",
   "execution_count": 15,
   "id": "1e13b7d3",
   "metadata": {},
   "outputs": [],
   "source": [
    "#encapsulation\n",
    "class Person:\n",
    "    def __init__(self,name,age):\n",
    "        self.__name=name #__ is used to mark the data varaiable as private\n",
    "        self.__age=age\n",
    "    def details(self):\n",
    "        print(f\"{self.__name} has a age of {self.__age}\")\n",
    "    def get_age(self):\n",
    "        return self.__age\n",
    "    def set_name(self,new_name):\n",
    "        self.__name=new_name\n"
   ]
  },
  {
   "cell_type": "code",
   "execution_count": 16,
   "id": "7534e7af",
   "metadata": {},
   "outputs": [],
   "source": [
    "p1=Person(\"Arihant\",21)"
   ]
  },
  {
   "cell_type": "code",
   "execution_count": 17,
   "id": "05b95561",
   "metadata": {},
   "outputs": [
    {
     "ename": "AttributeError",
     "evalue": "'Person' object has no attribute 'name'",
     "output_type": "error",
     "traceback": [
      "\u001b[1;31m---------------------------------------------------------------------------\u001b[0m",
      "\u001b[1;31mAttributeError\u001b[0m                            Traceback (most recent call last)",
      "Input \u001b[1;32mIn [17]\u001b[0m, in \u001b[0;36m<cell line: 1>\u001b[1;34m()\u001b[0m\n\u001b[1;32m----> 1\u001b[0m \u001b[43mp1\u001b[49m\u001b[38;5;241;43m.\u001b[39;49m\u001b[43mname\u001b[49m\n",
      "\u001b[1;31mAttributeError\u001b[0m: 'Person' object has no attribute 'name'"
     ]
    }
   ],
   "source": [
    "p1.name #not possible as the data value is private"
   ]
  },
  {
   "cell_type": "code",
   "execution_count": 18,
   "id": "55f6001f",
   "metadata": {},
   "outputs": [],
   "source": [
    "p1.set_name(\"Anirudh\")"
   ]
  },
  {
   "cell_type": "code",
   "execution_count": 19,
   "id": "7b2f0c37",
   "metadata": {},
   "outputs": [
    {
     "name": "stdout",
     "output_type": "stream",
     "text": [
      "Anirudh has a age of 21\n"
     ]
    }
   ],
   "source": [
    "p1.details()"
   ]
  },
  {
   "cell_type": "code",
   "execution_count": 20,
   "id": "990c4cab",
   "metadata": {},
   "outputs": [],
   "source": [
    "#inheritance"
   ]
  },
  {
   "cell_type": "code",
   "execution_count": 27,
   "id": "6818f4fa",
   "metadata": {},
   "outputs": [],
   "source": [
    "class Car:\n",
    "    def __init__(self,price):\n",
    "        self.price=price\n",
    "class Maruti(Car):\n",
    "    def price_value(self):\n",
    "        print(f\"The price of the car is {self.price}\")\n",
    "    "
   ]
  },
  {
   "cell_type": "code",
   "execution_count": 28,
   "id": "8a4e82e6",
   "metadata": {},
   "outputs": [
    {
     "data": {
      "text/plain": [
       "1000"
      ]
     },
     "execution_count": 28,
     "metadata": {},
     "output_type": "execute_result"
    }
   ],
   "source": [
    "m1=Maruti(1000)\n",
    "m1.price"
   ]
  },
  {
   "cell_type": "code",
   "execution_count": 29,
   "id": "55594928",
   "metadata": {},
   "outputs": [
    {
     "name": "stdout",
     "output_type": "stream",
     "text": [
      "The price of the car is 1000\n"
     ]
    }
   ],
   "source": [
    "m1.price_value()"
   ]
  },
  {
   "cell_type": "code",
   "execution_count": 31,
   "id": "2ac65bc6",
   "metadata": {},
   "outputs": [],
   "source": [
    "#abstraction"
   ]
  },
  {
   "cell_type": "code",
   "execution_count": 32,
   "id": "7e9694ad",
   "metadata": {},
   "outputs": [],
   "source": [
    "from abc import ABC,abstractmethod\n",
    "class Car(ABC):\n",
    "    @abstractmethod\n",
    "    def start(self):\n",
    "        pass\n",
    "    def stop(self):\n",
    "        pass\n",
    "class Maruti(Car):\n",
    "    def start():\n",
    "        print(\"Car is starting\")\n",
    "    def stop():\n",
    "        print(\"Car is stopping\")\n",
    "        "
   ]
  },
  {
   "cell_type": "code",
   "execution_count": 33,
   "id": "a01eca63",
   "metadata": {},
   "outputs": [],
   "source": [
    "m1=Maruti()"
   ]
  },
  {
   "cell_type": "code",
   "execution_count": 34,
   "id": "7aecb8b6",
   "metadata": {},
   "outputs": [
    {
     "ename": "TypeError",
     "evalue": "start() takes 0 positional arguments but 1 was given",
     "output_type": "error",
     "traceback": [
      "\u001b[1;31m---------------------------------------------------------------------------\u001b[0m",
      "\u001b[1;31mTypeError\u001b[0m                                 Traceback (most recent call last)",
      "Input \u001b[1;32mIn [34]\u001b[0m, in \u001b[0;36m<cell line: 1>\u001b[1;34m()\u001b[0m\n\u001b[1;32m----> 1\u001b[0m \u001b[43mm1\u001b[49m\u001b[38;5;241;43m.\u001b[39;49m\u001b[43mstart\u001b[49m\u001b[43m(\u001b[49m\u001b[43m)\u001b[49m\n",
      "\u001b[1;31mTypeError\u001b[0m: start() takes 0 positional arguments but 1 was given"
     ]
    }
   ],
   "source": [
    "m1.start()"
   ]
  },
  {
   "cell_type": "code",
   "execution_count": null,
   "id": "29f06ecf",
   "metadata": {},
   "outputs": [],
   "source": []
  }
 ],
 "metadata": {
  "kernelspec": {
   "display_name": "Python 3 (ipykernel)",
   "language": "python",
   "name": "python3"
  },
  "language_info": {
   "codemirror_mode": {
    "name": "ipython",
    "version": 3
   },
   "file_extension": ".py",
   "mimetype": "text/x-python",
   "name": "python",
   "nbconvert_exporter": "python",
   "pygments_lexer": "ipython3",
   "version": "3.9.12"
  }
 },
 "nbformat": 4,
 "nbformat_minor": 5
}
