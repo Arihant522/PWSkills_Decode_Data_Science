{
 "cells": [
  {
   "cell_type": "code",
   "execution_count": 4,
   "id": "641d65b9",
   "metadata": {},
   "outputs": [],
   "source": [
    "def greetings():\n",
    "    #function to print the \"Hello World\" message\n",
    "    print(\"Hello world\")"
   ]
  },
  {
   "cell_type": "code",
   "execution_count": 5,
   "id": "039ac962",
   "metadata": {},
   "outputs": [
    {
     "name": "stdout",
     "output_type": "stream",
     "text": [
      "Hello world\n"
     ]
    }
   ],
   "source": [
    "greetings()"
   ]
  },
  {
   "cell_type": "code",
   "execution_count": 6,
   "id": "ed154462",
   "metadata": {},
   "outputs": [],
   "source": [
    "names={\"Arihant\",\"aditya\",\"anurag\"}\n"
   ]
  },
  {
   "cell_type": "code",
   "execution_count": 7,
   "id": "5f2561fc",
   "metadata": {},
   "outputs": [],
   "source": [
    "def greetings1(name):#passing arguments\n",
    "    print(f\"Hello {name}\")"
   ]
  },
  {
   "cell_type": "code",
   "execution_count": 8,
   "id": "00840865",
   "metadata": {},
   "outputs": [
    {
     "name": "stdout",
     "output_type": "stream",
     "text": [
      "Hello Arihant\n",
      "Hello anurag\n",
      "Hello aditya\n"
     ]
    }
   ],
   "source": [
    "for name in names:\n",
    "    greetings1(name)"
   ]
  },
  {
   "cell_type": "code",
   "execution_count": 9,
   "id": "2be54a68",
   "metadata": {},
   "outputs": [
    {
     "name": "stdout",
     "output_type": "stream",
     "text": [
      "Hello Arihant\n"
     ]
    }
   ],
   "source": [
    "def greetings2(name=\"Arihant\"):#default parameter\n",
    "    print(f\"Hello {name}\")\n",
    "greetings2()"
   ]
  },
  {
   "cell_type": "code",
   "execution_count": 10,
   "id": "bbdb4f43",
   "metadata": {},
   "outputs": [],
   "source": [
    "def sum(*args):# *args is used when we don't know how many arguments will be present during the function call\n",
    "    val=0\n",
    "    for i in args:\n",
    "        val+=i\n",
    "    return val"
   ]
  },
  {
   "cell_type": "code",
   "execution_count": 11,
   "id": "6ceead27",
   "metadata": {},
   "outputs": [
    {
     "name": "stdout",
     "output_type": "stream",
     "text": [
      "71\n"
     ]
    }
   ],
   "source": [
    "print(sum(1,2,3,4,55,6))"
   ]
  },
  {
   "cell_type": "code",
   "execution_count": 13,
   "id": "e998924d",
   "metadata": {},
   "outputs": [
    {
     "name": "stdout",
     "output_type": "stream",
     "text": [
      "15\n"
     ]
    }
   ],
   "source": [
    "print(sum(1,2,3,4,5))"
   ]
  },
  {
   "cell_type": "code",
   "execution_count": 14,
   "id": "db82b49b",
   "metadata": {},
   "outputs": [],
   "source": [
    "#iterators\n",
    "lst=[1,2,3,4]"
   ]
  },
  {
   "cell_type": "code",
   "execution_count": 22,
   "id": "a36d36b6",
   "metadata": {},
   "outputs": [],
   "source": [
    "x=iter(lst)"
   ]
  },
  {
   "cell_type": "code",
   "execution_count": 20,
   "id": "0a103a29",
   "metadata": {},
   "outputs": [
    {
     "ename": "StopIteration",
     "evalue": "",
     "output_type": "error",
     "traceback": [
      "\u001b[1;31m---------------------------------------------------------------------------\u001b[0m",
      "\u001b[1;31mStopIteration\u001b[0m                             Traceback (most recent call last)",
      "Input \u001b[1;32mIn [20]\u001b[0m, in \u001b[0;36m<cell line: 1>\u001b[1;34m()\u001b[0m\n\u001b[1;32m----> 1\u001b[0m \u001b[38;5;28;43mnext\u001b[39;49m\u001b[43m(\u001b[49m\u001b[43mx\u001b[49m\u001b[43m)\u001b[49m\n",
      "\u001b[1;31mStopIteration\u001b[0m: "
     ]
    }
   ],
   "source": [
    "next(x)"
   ]
  },
  {
   "cell_type": "code",
   "execution_count": 21,
   "id": "53cbea08",
   "metadata": {},
   "outputs": [],
   "source": [
    "#when we reach the end of an iterator we can simply add an extra parameter \n",
    "#to return a value when the iterable is iterated completely"
   ]
  },
  {
   "cell_type": "code",
   "execution_count": 28,
   "id": "0ff4acf5",
   "metadata": {},
   "outputs": [
    {
     "data": {
      "text/plain": [
       "'end'"
      ]
     },
     "execution_count": 28,
     "metadata": {},
     "output_type": "execute_result"
    }
   ],
   "source": [
    "next(x,\"end\")"
   ]
  },
  {
   "cell_type": "code",
   "execution_count": 29,
   "id": "84c1ff8a",
   "metadata": {},
   "outputs": [],
   "source": [
    "#to yield custom build iterators we use generators\n",
    "def generators_sample():\n",
    "    yield 10 #yield is a keyword\n",
    "    yield 20\n",
    "    yield 30\n",
    "x=generators_sample()"
   ]
  },
  {
   "cell_type": "code",
   "execution_count": 30,
   "id": "e6a57a24",
   "metadata": {},
   "outputs": [
    {
     "data": {
      "text/plain": [
       "10"
      ]
     },
     "execution_count": 30,
     "metadata": {},
     "output_type": "execute_result"
    }
   ],
   "source": [
    "next(x)"
   ]
  },
  {
   "cell_type": "code",
   "execution_count": 31,
   "id": "89958f48",
   "metadata": {},
   "outputs": [
    {
     "data": {
      "text/plain": [
       "20"
      ]
     },
     "execution_count": 31,
     "metadata": {},
     "output_type": "execute_result"
    }
   ],
   "source": [
    "next(x)"
   ]
  },
  {
   "cell_type": "code",
   "execution_count": 32,
   "id": "af5b4424",
   "metadata": {},
   "outputs": [
    {
     "data": {
      "text/plain": [
       "30"
      ]
     },
     "execution_count": 32,
     "metadata": {},
     "output_type": "execute_result"
    }
   ],
   "source": [
    "next(x)"
   ]
  },
  {
   "cell_type": "code",
   "execution_count": 33,
   "id": "e9cdba78",
   "metadata": {},
   "outputs": [],
   "source": [
    "#lambda function it is used to write functions which are comparatively smaller in size"
   ]
  },
  {
   "cell_type": "code",
   "execution_count": 35,
   "id": "2d17700e",
   "metadata": {},
   "outputs": [],
   "source": [
    "add=lambda x,y:x+y"
   ]
  },
  {
   "cell_type": "code",
   "execution_count": 36,
   "id": "3edb8492",
   "metadata": {},
   "outputs": [
    {
     "data": {
      "text/plain": [
       "7"
      ]
     },
     "execution_count": 36,
     "metadata": {},
     "output_type": "execute_result"
    }
   ],
   "source": [
    "add(3,4)"
   ]
  },
  {
   "cell_type": "code",
   "execution_count": 37,
   "id": "f3e705cb",
   "metadata": {},
   "outputs": [],
   "source": [
    "greaterval=lambda x,y:x if x>y else y"
   ]
  },
  {
   "cell_type": "code",
   "execution_count": 38,
   "id": "6c908acb",
   "metadata": {},
   "outputs": [
    {
     "data": {
      "text/plain": [
       "4"
      ]
     },
     "execution_count": 38,
     "metadata": {},
     "output_type": "execute_result"
    }
   ],
   "source": [
    "greaterval(3,4)"
   ]
  },
  {
   "cell_type": "code",
   "execution_count": 39,
   "id": "340620fe",
   "metadata": {},
   "outputs": [],
   "source": [
    "# when we want to apply a function on the iterable we use a map function\n"
   ]
  },
  {
   "cell_type": "code",
   "execution_count": 40,
   "id": "ceb5fbb0",
   "metadata": {},
   "outputs": [],
   "source": [
    "cel=[10,20,30,40]"
   ]
  },
  {
   "cell_type": "code",
   "execution_count": 43,
   "id": "dd980a90",
   "metadata": {},
   "outputs": [],
   "source": [
    "fah=list(map(lambda x:(9/5)*x+32,cel))"
   ]
  },
  {
   "cell_type": "code",
   "execution_count": 44,
   "id": "6ffa7ccc",
   "metadata": {},
   "outputs": [
    {
     "data": {
      "text/plain": [
       "[50.0, 68.0, 86.0, 104.0]"
      ]
     },
     "execution_count": 44,
     "metadata": {},
     "output_type": "execute_result"
    }
   ],
   "source": [
    "fah"
   ]
  },
  {
   "cell_type": "code",
   "execution_count": 46,
   "id": "0342ab1e",
   "metadata": {},
   "outputs": [],
   "source": [
    "lst=[[1,2,3],[4,5,6],[7,8,9]]\n",
    "sq_lst=list(map(lambda row:list(map(lambda x:x**2,row)),lst))"
   ]
  },
  {
   "cell_type": "code",
   "execution_count": 47,
   "id": "ac98c795",
   "metadata": {},
   "outputs": [
    {
     "data": {
      "text/plain": [
       "[[1, 4, 9], [16, 25, 36], [49, 64, 81]]"
      ]
     },
     "execution_count": 47,
     "metadata": {},
     "output_type": "execute_result"
    }
   ],
   "source": [
    "sq_lst"
   ]
  },
  {
   "cell_type": "code",
   "execution_count": 49,
   "id": "2c54b45e",
   "metadata": {},
   "outputs": [],
   "source": [
    "#filter functions \n",
    "lst=[1,2,3,4,5,6]\n",
    "even=list(filter(lambda x:x%2==0,lst))"
   ]
  },
  {
   "cell_type": "code",
   "execution_count": 50,
   "id": "954eee5e",
   "metadata": {},
   "outputs": [
    {
     "data": {
      "text/plain": [
       "[2, 4, 6]"
      ]
     },
     "execution_count": 50,
     "metadata": {},
     "output_type": "execute_result"
    }
   ],
   "source": [
    "even"
   ]
  },
  {
   "cell_type": "code",
   "execution_count": 51,
   "id": "f4838441",
   "metadata": {},
   "outputs": [],
   "source": [
    "from functools import reduce"
   ]
  },
  {
   "cell_type": "code",
   "execution_count": 52,
   "id": "fda98de9",
   "metadata": {},
   "outputs": [
    {
     "data": {
      "text/plain": [
       "'quack'"
      ]
     },
     "execution_count": 52,
     "metadata": {},
     "output_type": "execute_result"
    }
   ],
   "source": [
    "lst=['q','u','a','c','k']\n",
    "reduce(lambda x,y:x+y,lst)"
   ]
  },
  {
   "cell_type": "code",
   "execution_count": null,
   "id": "c3198d23",
   "metadata": {},
   "outputs": [],
   "source": []
  }
 ],
 "metadata": {
  "kernelspec": {
   "display_name": "Python 3 (ipykernel)",
   "language": "python",
   "name": "python3"
  },
  "language_info": {
   "codemirror_mode": {
    "name": "ipython",
    "version": 3
   },
   "file_extension": ".py",
   "mimetype": "text/x-python",
   "name": "python",
   "nbconvert_exporter": "python",
   "pygments_lexer": "ipython3",
   "version": "3.9.12"
  }
 },
 "nbformat": 4,
 "nbformat_minor": 5
}
