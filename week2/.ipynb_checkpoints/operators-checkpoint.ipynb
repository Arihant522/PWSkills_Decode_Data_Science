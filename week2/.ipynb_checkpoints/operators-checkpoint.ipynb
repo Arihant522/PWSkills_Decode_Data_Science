{
 "cells": [
  {
   "cell_type": "code",
   "execution_count": 1,
   "id": "ec1f1c6c",
   "metadata": {},
   "outputs": [],
   "source": [
    "#Python Operators assignment"
   ]
  },
  {
   "cell_type": "code",
   "execution_count": 2,
   "id": "9c6709f7",
   "metadata": {},
   "outputs": [],
   "source": [
    "#Calculate the sum difference product and quotient of two numbers."
   ]
  },
  {
   "cell_type": "code",
   "execution_count": 8,
   "id": "2d890b2c",
   "metadata": {},
   "outputs": [
    {
     "name": "stdout",
     "output_type": "stream",
     "text": [
      "sum 15\n",
      "difference -5\n",
      "product 50\n",
      "quotient 0.5\n"
     ]
    }
   ],
   "source": [
    "x=5\n",
    "y=10\n",
    "s=x+y\n",
    "diff=x-y\n",
    "product=x*y\n",
    "quotient=x/y\n",
    "print(\"sum \"+str(s))\n",
    "print(\"difference \"+str(diff))\n",
    "print(\"product \"+str(product))\n",
    "print(\"quotient \"+str(quotient))"
   ]
  },
  {
   "cell_type": "code",
   "execution_count": 9,
   "id": "b269f379",
   "metadata": {},
   "outputs": [
    {
     "name": "stdout",
     "output_type": "stream",
     "text": [
      "25\n",
      "20\n",
      "4.0\n",
      "9.0\n"
     ]
    }
   ],
   "source": [
    "#Perform various assignment operations on a variable.\n",
    "x=5\n",
    "x*=5\n",
    "print(x)\n",
    "x-=5\n",
    "print(x)\n",
    "x/=5\n",
    "print(x)\n",
    "x+=5\n",
    "print(x)"
   ]
  },
  {
   "cell_type": "code",
   "execution_count": 10,
   "id": "8995fe1d",
   "metadata": {},
   "outputs": [
    {
     "name": "stdout",
     "output_type": "stream",
     "text": [
      "x is not greater\n"
     ]
    }
   ],
   "source": [
    "#Compare two numbers and print the results.\n",
    "x=10\n",
    "y=15\n",
    "if(x>y):\n",
    "    print(\"x ix greater\")\n",
    "else:\n",
    "    print(\"x is not greater\")\n",
    "    "
   ]
  },
  {
   "cell_type": "code",
   "execution_count": 11,
   "id": "d30aa7fd",
   "metadata": {},
   "outputs": [
    {
     "name": "stdout",
     "output_type": "stream",
     "text": [
      "x is in between 0 and 10\n"
     ]
    }
   ],
   "source": [
    "#Check conditions using logical operators.\n",
    "x=5\n",
    "if(x>0 and x<10):\n",
    "    print(\"x is in between 0 and 10\")"
   ]
  },
  {
   "cell_type": "code",
   "execution_count": 13,
   "id": "8f8db504",
   "metadata": {},
   "outputs": [
    {
     "name": "stdout",
     "output_type": "stream",
     "text": [
      "bitwise left shift of x by 2\n",
      "8\n"
     ]
    }
   ],
   "source": [
    "#Perform bitwise operations on any two integers.\n",
    "x=2\n",
    "print(\"bitwise left shift of x by 2\")\n",
    "print(x<<2)\n"
   ]
  },
  {
   "cell_type": "code",
   "execution_count": 14,
   "id": "f75a605c",
   "metadata": {},
   "outputs": [
    {
     "name": "stdout",
     "output_type": "stream",
     "text": [
      "-5\n"
     ]
    }
   ],
   "source": [
    "#Use unary operators to change the sign of a number.\n",
    "x=5\n",
    "neg_x=-x\n",
    "print(neg_x)"
   ]
  },
  {
   "cell_type": "code",
   "execution_count": 16,
   "id": "8ea9cb08",
   "metadata": {},
   "outputs": [
    {
     "name": "stdout",
     "output_type": "stream",
     "text": [
      "can vote\n"
     ]
    }
   ],
   "source": [
    "#Use the ternary operator to assign values based on conditions.\n",
    "age=18\n",
    "can_vote=\"can vote\"if age>=18 else \"cannot vote\"\n",
    "print(can_vote)"
   ]
  }
 ],
 "metadata": {
  "kernelspec": {
   "display_name": "Python 3 (ipykernel)",
   "language": "python",
   "name": "python3"
  },
  "language_info": {
   "codemirror_mode": {
    "name": "ipython",
    "version": 3
   },
   "file_extension": ".py",
   "mimetype": "text/x-python",
   "name": "python",
   "nbconvert_exporter": "python",
   "pygments_lexer": "ipython3",
   "version": "3.9.12"
  }
 },
 "nbformat": 4,
 "nbformat_minor": 5
}
