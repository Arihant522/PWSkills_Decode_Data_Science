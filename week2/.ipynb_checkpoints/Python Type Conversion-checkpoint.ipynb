{
 "cells": [
  {
   "cell_type": "code",
   "execution_count": 1,
   "id": "87748960",
   "metadata": {},
   "outputs": [
    {
     "name": "stdout",
     "output_type": "stream",
     "text": [
      "5\n"
     ]
    }
   ],
   "source": [
    "#convert an floating number to integer number\n",
    "x=5.5\n",
    "print(int(x))"
   ]
  },
  {
   "cell_type": "code",
   "execution_count": 2,
   "id": "7ad3c534",
   "metadata": {},
   "outputs": [
    {
     "name": "stdout",
     "output_type": "stream",
     "text": [
      "7.0\n"
     ]
    }
   ],
   "source": [
    "#Convert an integer to floating number\n",
    "x=7\n",
    "print(float(x))"
   ]
  },
  {
   "cell_type": "code",
   "execution_count": 3,
   "id": "2f155b1f",
   "metadata": {},
   "outputs": [
    {
     "name": "stdout",
     "output_type": "stream",
     "text": [
      "5\n"
     ]
    }
   ],
   "source": [
    "#Convert an integer to string\".\n",
    "x=5\n",
    "print(str(x))\n"
   ]
  },
  {
   "cell_type": "code",
   "execution_count": 6,
   "id": "6c6bcf11",
   "metadata": {},
   "outputs": [
    {
     "name": "stdout",
     "output_type": "stream",
     "text": [
      "<class 'list'>\n",
      "<class 'tuple'>\n"
     ]
    }
   ],
   "source": [
    "#convert a list to tuple\n",
    "x=[1,2,3]\n",
    "print(type(x))\n",
    "print(type(tuple(x)))"
   ]
  },
  {
   "cell_type": "code",
   "execution_count": 7,
   "id": "9abbb0e4",
   "metadata": {},
   "outputs": [
    {
     "name": "stdout",
     "output_type": "stream",
     "text": [
      "(1, 2, 3)\n",
      "<class 'tuple'>\n",
      "[1, 2, 3]\n",
      "<class 'list'>\n"
     ]
    }
   ],
   "source": [
    "#convert a tuple to list\n",
    "x=(1,2,3)\n",
    "print(x)\n",
    "print(type(x))\n",
    "x=list(x)\n",
    "print(x)\n",
    "print(type(x))"
   ]
  },
  {
   "cell_type": "code",
   "execution_count": 8,
   "id": "6867006a",
   "metadata": {},
   "outputs": [
    {
     "name": "stdout",
     "output_type": "stream",
     "text": [
      "0b101\n"
     ]
    }
   ],
   "source": [
    "#Convert a decimal number to binary\n",
    "x=5\n",
    "print(bin(x))"
   ]
  },
  {
   "cell_type": "code",
   "execution_count": 9,
   "id": "c7f84746",
   "metadata": {},
   "outputs": [
    {
     "name": "stdout",
     "output_type": "stream",
     "text": [
      "True\n"
     ]
    }
   ],
   "source": [
    "#convert a non zero number as a boolean\n",
    "x=5\n",
    "print(bool(x))"
   ]
  }
 ],
 "metadata": {
  "kernelspec": {
   "display_name": "Python 3 (ipykernel)",
   "language": "python",
   "name": "python3"
  },
  "language_info": {
   "codemirror_mode": {
    "name": "ipython",
    "version": 3
   },
   "file_extension": ".py",
   "mimetype": "text/x-python",
   "name": "python",
   "nbconvert_exporter": "python",
   "pygments_lexer": "ipython3",
   "version": "3.9.12"
  }
 },
 "nbformat": 4,
 "nbformat_minor": 5
}
