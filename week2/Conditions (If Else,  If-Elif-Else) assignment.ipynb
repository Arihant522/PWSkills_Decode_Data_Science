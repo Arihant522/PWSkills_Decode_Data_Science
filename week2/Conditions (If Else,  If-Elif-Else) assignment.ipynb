{
 "cells": [
  {
   "cell_type": "code",
   "execution_count": 1,
   "id": "509bcab9",
   "metadata": {},
   "outputs": [
    {
     "name": "stdout",
     "output_type": "stream",
     "text": [
      "positive\n"
     ]
    }
   ],
   "source": [
    "# Write a program to check if a number is positive or negative.\n",
    "x=15\n",
    "if(x>0):\n",
    "    print(\"positive\")\n",
    "else:\n",
    "    print(\"negative\")"
   ]
  },
  {
   "cell_type": "code",
   "execution_count": 4,
   "id": "a0a3a90f",
   "metadata": {},
   "outputs": [
    {
     "name": "stdout",
     "output_type": "stream",
     "text": [
      "A Grade\n"
     ]
    }
   ],
   "source": [
    "# Write a program to determine the grade based on a student's marks.\n",
    "grade=70\n",
    "if(grade<=100 and grade>=70):\n",
    "    print(\"A Grade\")\n",
    "elif(grade<70 and grade>=40):\n",
    "    print(\"B grade achieved\")\n",
    "else:\n",
    "    print(\"Failed\")\n",
    "    "
   ]
  },
  {
   "cell_type": "code",
   "execution_count": 5,
   "id": "3398453e",
   "metadata": {},
   "outputs": [
    {
     "name": "stdout",
     "output_type": "stream",
     "text": [
      "monsoon season\n"
     ]
    }
   ],
   "source": [
    "#Write a program to check the season based on the month number.\n",
    "mon_num=11\n",
    "if(mon_num>=1 and mon_num<=4):\n",
    "    print(\"Winter season\")\n",
    "elif(mon_num>=5 and mon_num<=8):\n",
    "    print(\"summer season\")\n",
    "else:\n",
    "    print(\"monsoon season\")"
   ]
  },
  {
   "cell_type": "code",
   "execution_count": 8,
   "id": "b8cb73bc",
   "metadata": {},
   "outputs": [
    {
     "name": "stdout",
     "output_type": "stream",
     "text": [
      "equilateral triangle\n"
     ]
    }
   ],
   "source": [
    "#Write a program to determine the type of triangle based on sides.\n",
    "s1=9\n",
    "s2=9\n",
    "s3=9\n",
    "if(s1==s2 and s2==s3):\n",
    "    print(\"equilateral triangle\")\n",
    "elif(s1==s2 or s2==s3 or s1==s3):\n",
    "    print(\"isosceles triangle\")\n",
    "else:\n",
    "    print(\"scalene triangle\")"
   ]
  },
  {
   "cell_type": "code",
   "execution_count": 9,
   "id": "80ce6653",
   "metadata": {},
   "outputs": [
    {
     "name": "stdout",
     "output_type": "stream",
     "text": [
      "Leap Year\n"
     ]
    }
   ],
   "source": [
    "#Write a program to check if a year is a leap year.\n",
    "year=2020\n",
    "if(year%4==0):\n",
    "    print(\"Leap Year\")\n",
    "else:\n",
    "    print(\"Non-Leap Year\")"
   ]
  },
  {
   "cell_type": "code",
   "execution_count": 11,
   "id": "9d21ddbd",
   "metadata": {},
   "outputs": [
    {
     "name": "stdout",
     "output_type": "stream",
     "text": [
      "x is between 0 and 50\n"
     ]
    }
   ],
   "source": [
    "#Check if a number is within a specified range.\n",
    "x=10\n",
    "if(x>=0 and x<=50):\n",
    "    print(\"x is between 0 and 50\")\n",
    "else:\n",
    "    print(\"Not in the given range\")"
   ]
  }
 ],
 "metadata": {
  "kernelspec": {
   "display_name": "Python 3 (ipykernel)",
   "language": "python",
   "name": "python3"
  },
  "language_info": {
   "codemirror_mode": {
    "name": "ipython",
    "version": 3
   },
   "file_extension": ".py",
   "mimetype": "text/x-python",
   "name": "python",
   "nbconvert_exporter": "python",
   "pygments_lexer": "ipython3",
   "version": "3.9.12"
  }
 },
 "nbformat": 4,
 "nbformat_minor": 5
}
