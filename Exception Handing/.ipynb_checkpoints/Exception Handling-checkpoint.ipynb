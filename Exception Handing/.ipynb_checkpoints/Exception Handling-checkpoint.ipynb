{
 "cells": [
  {
   "cell_type": "code",
   "execution_count": 1,
   "id": "4823b801",
   "metadata": {},
   "outputs": [],
   "source": [
    "try:\n",
    "    #consist of the code that can produce the eroor\n",
    "    pass\n",
    "except:\n",
    "    # code which will run incase an error is found\n",
    "    pass"
   ]
  },
  {
   "cell_type": "code",
   "execution_count": 6,
   "id": "6b4c8d94",
   "metadata": {},
   "outputs": [
    {
     "name": "stdout",
     "output_type": "stream",
     "text": [
      "Error Produced division by zero\n"
     ]
    }
   ],
   "source": [
    "#example\n",
    "try:\n",
    "    number=0\n",
    "    number/number\n",
    "except Exception as e:\n",
    "    print(\"Error Produced\",e)"
   ]
  },
  {
   "cell_type": "code",
   "execution_count": 10,
   "id": "3d4dea03",
   "metadata": {},
   "outputs": [],
   "source": [
    "def diff(a,b):\n",
    "    try:\n",
    "        c=(a+b)/(a-b)\n",
    "        print(c)\n",
    "    except Exception as e:\n",
    "        print(\"Error occured as \",e)\n",
    "    else:\n",
    "        #incase no error is found this particular block of code also runs\n",
    "        print(\"No Error encountered\")"
   ]
  },
  {
   "cell_type": "code",
   "execution_count": 11,
   "id": "061777ae",
   "metadata": {},
   "outputs": [
    {
     "name": "stdout",
     "output_type": "stream",
     "text": [
      "-3.0\n",
      "No Error encountered\n"
     ]
    }
   ],
   "source": [
    "diff(1,2)"
   ]
  },
  {
   "cell_type": "code",
   "execution_count": 12,
   "id": "1e6f4caf",
   "metadata": {},
   "outputs": [
    {
     "name": "stdout",
     "output_type": "stream",
     "text": [
      "Error occured as  division by zero\n"
     ]
    }
   ],
   "source": [
    "diff(3,3)"
   ]
  },
  {
   "cell_type": "code",
   "execution_count": 13,
   "id": "1b40bc1f",
   "metadata": {},
   "outputs": [],
   "source": [
    "#finally is the bloc of code which will run no matter what happens in the exception handling"
   ]
  },
  {
   "cell_type": "markdown",
   "id": "bbb0d84c",
   "metadata": {},
   "source": [
    "# Custom Exception Handling"
   ]
  },
  {
   "cell_type": "code",
   "execution_count": 26,
   "id": "05932bca",
   "metadata": {},
   "outputs": [],
   "source": [
    "class ColdBeverage(Exception):\n",
    "    def __init__(self, message=\"We Only Serve Hot Drinks\"):\n",
    "        self.message = message\n",
    "        super().__init__(self.message)"
   ]
  },
  {
   "cell_type": "code",
   "execution_count": 27,
   "id": "925de0ee",
   "metadata": {},
   "outputs": [],
   "source": [
    "def drink(temp):\n",
    "    if temp == \"cold\":\n",
    "        raise ColdBeverage()\n",
    "    else:\n",
    "        print(\"No Problem\")"
   ]
  },
  {
   "cell_type": "code",
   "execution_count": 29,
   "id": "8b7fda3d",
   "metadata": {},
   "outputs": [
    {
     "name": "stdout",
     "output_type": "stream",
     "text": [
      "Error found\n"
     ]
    }
   ],
   "source": [
    "try:\n",
    "    drink(\"cold\")\n",
    "except Exception as e:\n",
    "    print(\"Error found\")"
   ]
  },
  {
   "cell_type": "code",
   "execution_count": null,
   "id": "320aaa2e",
   "metadata": {},
   "outputs": [],
   "source": []
  }
 ],
 "metadata": {
  "kernelspec": {
   "display_name": "Python 3 (ipykernel)",
   "language": "python",
   "name": "python3"
  },
  "language_info": {
   "codemirror_mode": {
    "name": "ipython",
    "version": 3
   },
   "file_extension": ".py",
   "mimetype": "text/x-python",
   "name": "python",
   "nbconvert_exporter": "python",
   "pygments_lexer": "ipython3",
   "version": "3.9.12"
  }
 },
 "nbformat": 4,
 "nbformat_minor": 5
}
