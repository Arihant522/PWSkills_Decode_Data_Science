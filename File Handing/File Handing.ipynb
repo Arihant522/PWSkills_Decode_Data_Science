{
 "cells": [
  {
   "cell_type": "code",
   "execution_count": 1,
   "id": "506ddfae",
   "metadata": {},
   "outputs": [],
   "source": [
    "#file handing"
   ]
  },
  {
   "cell_type": "code",
   "execution_count": 2,
   "id": "4689e6d5",
   "metadata": {},
   "outputs": [],
   "source": [
    "# syntax\n",
    "# with open(file,mode):\n",
    "# file.mode()"
   ]
  },
  {
   "cell_type": "code",
   "execution_count": 3,
   "id": "8f8fe64a",
   "metadata": {},
   "outputs": [],
   "source": [
    "with open(\"testing.txt\",\"w\") as file:\n",
    "    file.write(\"New Test file created\")"
   ]
  },
  {
   "cell_type": "code",
   "execution_count": 4,
   "id": "efd14d69",
   "metadata": {},
   "outputs": [
    {
     "name": "stdout",
     "output_type": "stream",
     "text": [
      "New Test file created\n"
     ]
    }
   ],
   "source": [
    "with open(\"testing.txt\",\"r\") as file:\n",
    "    content=file.read()\n",
    "    print(content)"
   ]
  },
  {
   "cell_type": "code",
   "execution_count": 5,
   "id": "58657a5d",
   "metadata": {},
   "outputs": [],
   "source": [
    "import csv\n",
    "\n",
    "data=[[\"name\",\"age\",\"city\"],[\"Avi\",\"16\",\"Ayodhya\"],[\"Arihant\",\"21\",\"Dehradun\"]]\n",
    "with open(\"test.csv\",\"w\",newline=\"\") as file:\n",
    "    csv_writer=csv.writer(file)\n",
    "    csv_writer.writerows(data)"
   ]
  },
  {
   "cell_type": "markdown",
   "id": "e4e17986",
   "metadata": {},
   "source": [
    "# WRITING AND READING OPERATIONS"
   ]
  },
  {
   "cell_type": "code",
   "execution_count": 7,
   "id": "6851e586",
   "metadata": {},
   "outputs": [],
   "source": [
    "#writing in the text file\n",
    "def greeting(name):\n",
    "    return f\"Hello How are you {name}\"\n",
    "data=greeting(\"Arihant\")\n",
    "with open(\"data.txt\",\"w\") as file:\n",
    "    file.write(data)"
   ]
  },
  {
   "cell_type": "code",
   "execution_count": 8,
   "id": "90c05a63",
   "metadata": {},
   "outputs": [
    {
     "name": "stdout",
     "output_type": "stream",
     "text": [
      "Hello How are you Arihant\n"
     ]
    }
   ],
   "source": [
    "#reading from the text file\n",
    "with open(\"data.txt\",\"r\") as file:\n",
    "    data=file.read()\n",
    "    print(data)"
   ]
  },
  {
   "cell_type": "code",
   "execution_count": 10,
   "id": "00a8df02",
   "metadata": {},
   "outputs": [],
   "source": [
    "data=[\"line1 \\n\",\"line2 \\n\",\"line3 \\n\"]\n",
    "with open(\"data_lines.txt\",\"w\") as file:\n",
    "    file.writelines(data)"
   ]
  },
  {
   "cell_type": "code",
   "execution_count": 13,
   "id": "ca81bdb1",
   "metadata": {},
   "outputs": [
    {
     "name": "stdout",
     "output_type": "stream",
     "text": [
      "line1 \n",
      "line2 \n",
      "line3 \n"
     ]
    }
   ],
   "source": [
    "with open(\"data_lines.txt\",\"r\") as file:\n",
    "    for line in file.readlines():\n",
    "        print(line,end=\"\")"
   ]
  },
  {
   "cell_type": "code",
   "execution_count": 14,
   "id": "93bd5cf6",
   "metadata": {},
   "outputs": [],
   "source": [
    "new_line=\"This is  a new line\"\n",
    "with open(\"data_lines.txt\",\"a\") as file:\n",
    "    file.write(new_line)\n",
    "    "
   ]
  },
  {
   "cell_type": "code",
   "execution_count": 15,
   "id": "6b516d2e",
   "metadata": {},
   "outputs": [
    {
     "name": "stdout",
     "output_type": "stream",
     "text": [
      "line1 \n",
      "line2 \n",
      "line3 \n",
      "This is  a new line"
     ]
    }
   ],
   "source": [
    "with open(\"data_lines.txt\",\"r\") as file:\n",
    "    for line in file.readlines():\n",
    "        print(line,end=\"\")"
   ]
  },
  {
   "cell_type": "code",
   "execution_count": 16,
   "id": "af6511d1",
   "metadata": {},
   "outputs": [],
   "source": [
    "#reading a specific number of characters"
   ]
  },
  {
   "cell_type": "code",
   "execution_count": 17,
   "id": "389d0e01",
   "metadata": {},
   "outputs": [
    {
     "name": "stdout",
     "output_type": "stream",
     "text": [
      "Hello How \n"
     ]
    }
   ],
   "source": [
    "with open(\"data.txt\",\"r\") as file:\n",
    "    print(file.read(10))"
   ]
  },
  {
   "cell_type": "markdown",
   "id": "29c41aee",
   "metadata": {},
   "source": [
    "# BUFFERED READER AND WRITER"
   ]
  },
  {
   "cell_type": "code",
   "execution_count": 18,
   "id": "d773a00e",
   "metadata": {},
   "outputs": [],
   "source": [
    "with open(\"testing.txt\",\"w\",buffering=2048) as file:\n",
    "    file.write(\"This is some random data\")\n",
    "    file.flush()#this is an optional function the main purpose is to transfer the data to the physical storage in case of a\n",
    "    #power outage the data which is stored in the permanent memory will only be available and buffered memory data will \n",
    "    #be lost"
   ]
  },
  {
   "cell_type": "markdown",
   "id": "c574df04",
   "metadata": {},
   "source": [
    "# other file functions"
   ]
  },
  {
   "cell_type": "code",
   "execution_count": 19,
   "id": "0c7d2898",
   "metadata": {},
   "outputs": [],
   "source": [
    "with open(\"test.txt\",\"w\") as file:\n",
    "    file.write(\"Test File created\")\n",
    "    file.close()#this function is used to close the file as the file take some primary resources and\n",
    "    #we want to free those resources by close function "
   ]
  },
  {
   "cell_type": "code",
   "execution_count": 20,
   "id": "2212a0eb",
   "metadata": {},
   "outputs": [
    {
     "name": "stdout",
     "output_type": "stream",
     "text": [
      "the content of the file is Test File  and the pointer is 10\n"
     ]
    }
   ],
   "source": [
    "with open(\"test.txt\",\"r\") as file:\n",
    "    content=file.read(10)\n",
    "    pointer=file.tell()#it will point at the last read index in the file we are reading and return that index or cursor\n",
    "    file.close()\n",
    "print(f\"the content of the file is {content} and the pointer is {pointer}\")"
   ]
  },
  {
   "cell_type": "code",
   "execution_count": 21,
   "id": "21a315a6",
   "metadata": {},
   "outputs": [
    {
     "name": "stdout",
     "output_type": "stream",
     "text": [
      "t File cre\n"
     ]
    }
   ],
   "source": [
    "with open(\"test.txt\",\"r\") as file:\n",
    "    file.seek(3)#seek function is used to skip a particular number of characters in the file\n",
    "    content=file.read(10)\n",
    "    file.close()\n",
    "    print(content)"
   ]
  },
  {
   "cell_type": "code",
   "execution_count": 26,
   "id": "5464bbed",
   "metadata": {},
   "outputs": [
    {
     "name": "stdout",
     "output_type": "stream",
     "text": [
      "Test \n"
     ]
    }
   ],
   "source": [
    "file=open(\"test.txt\",\"r+\")\n",
    "file.truncate(5)#it deletes the first 5 characters of the file provided\n",
    "content=file.read()\n",
    "print(content)"
   ]
  },
  {
   "cell_type": "code",
   "execution_count": 29,
   "id": "77d9bfcc",
   "metadata": {},
   "outputs": [
    {
     "name": "stdout",
     "output_type": "stream",
     "text": [
      "the test.txt is readable True\n"
     ]
    }
   ],
   "source": [
    "with open(\"test.txt\",\"r\") as file:\n",
    "    print(\"the test.txt is readable\",file.readable())#readable() return true or false value based on whether the provided file\n",
    "    # is readable or not"
   ]
  },
  {
   "cell_type": "code",
   "execution_count": 30,
   "id": "fddfe46d",
   "metadata": {},
   "outputs": [],
   "source": [
    "#similarly seekable and writable also exists"
   ]
  },
  {
   "cell_type": "code",
   "execution_count": 31,
   "id": "a17363a1",
   "metadata": {},
   "outputs": [],
   "source": [
    "#to perform operations like deleting and creating files we use \n",
    "# os library"
   ]
  },
  {
   "cell_type": "code",
   "execution_count": 32,
   "id": "3f47a3f0",
   "metadata": {},
   "outputs": [],
   "source": [
    "import os\n",
    "os.remove(\"test.txt\")"
   ]
  },
  {
   "cell_type": "code",
   "execution_count": 33,
   "id": "5ae6bca9",
   "metadata": {},
   "outputs": [
    {
     "data": {
      "text/plain": [
       "False"
      ]
     },
     "execution_count": 33,
     "metadata": {},
     "output_type": "execute_result"
    }
   ],
   "source": [
    "os.path.exists(\"test.txt\")"
   ]
  },
  {
   "cell_type": "code",
   "execution_count": 34,
   "id": "f475392e",
   "metadata": {},
   "outputs": [
    {
     "data": {
      "text/plain": [
       "True"
      ]
     },
     "execution_count": 34,
     "metadata": {},
     "output_type": "execute_result"
    }
   ],
   "source": [
    "os.path.exists(\"test.csv\")"
   ]
  },
  {
   "cell_type": "code",
   "execution_count": 35,
   "id": "fef34b35",
   "metadata": {},
   "outputs": [],
   "source": [
    "file=os.stat(\"test.csv\")"
   ]
  },
  {
   "cell_type": "code",
   "execution_count": 36,
   "id": "d61db7c7",
   "metadata": {},
   "outputs": [
    {
     "data": {
      "text/plain": [
       "os.stat_result(st_mode=33206, st_ino=19984723346604089, st_dev=3591727486, st_nlink=1, st_uid=0, st_gid=0, st_size=52, st_atime=1706112367, st_mtime=1706112361, st_ctime=1706112361)"
      ]
     },
     "execution_count": 36,
     "metadata": {},
     "output_type": "execute_result"
    }
   ],
   "source": [
    "file"
   ]
  },
  {
   "cell_type": "code",
   "execution_count": 37,
   "id": "445aece4",
   "metadata": {},
   "outputs": [],
   "source": [
    "os.rename(\"test.csv\",\"rename.csv\")"
   ]
  },
  {
   "cell_type": "code",
   "execution_count": 38,
   "id": "51384968",
   "metadata": {},
   "outputs": [],
   "source": [
    "os.makedirs(\"content\")\n",
    "with open(os.path.join(\"content\",\"newtesting.txt\"),\"w\") as file:\n",
    "    file.write(\"file created within the content folder\")"
   ]
  },
  {
   "cell_type": "code",
   "execution_count": null,
   "id": "8655c453",
   "metadata": {},
   "outputs": [],
   "source": []
  }
 ],
 "metadata": {
  "kernelspec": {
   "display_name": "Python 3 (ipykernel)",
   "language": "python",
   "name": "python3"
  },
  "language_info": {
   "codemirror_mode": {
    "name": "ipython",
    "version": 3
   },
   "file_extension": ".py",
   "mimetype": "text/x-python",
   "name": "python",
   "nbconvert_exporter": "python",
   "pygments_lexer": "ipython3",
   "version": "3.9.12"
  }
 },
 "nbformat": 4,
 "nbformat_minor": 5
}
