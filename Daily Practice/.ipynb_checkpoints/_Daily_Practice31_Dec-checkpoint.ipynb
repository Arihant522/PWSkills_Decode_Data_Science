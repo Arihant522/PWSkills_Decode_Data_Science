{
 "cells": [
  {
   "cell_type": "code",
   "execution_count": 1,
   "id": "20bc2be8",
   "metadata": {},
   "outputs": [
    {
     "data": {
      "text/plain": [
       "True"
      ]
     },
     "execution_count": 1,
     "metadata": {},
     "output_type": "execute_result"
    }
   ],
   "source": [
    "#check if a element is in a list\n",
    "li=[1,2,3,'a','b','c']\n",
    "'a' in li"
   ]
  },
  {
   "cell_type": "code",
   "execution_count": 2,
   "id": "1b4765a3",
   "metadata": {},
   "outputs": [
    {
     "data": {
      "text/plain": [
       "[('snow', 'cat', 1), ('chewy', 'dog', 2), ('Bubble', 'fish', 3)]"
      ]
     },
     "execution_count": 2,
     "metadata": {},
     "output_type": "execute_result"
    }
   ],
   "source": [
    "name=[\"snow\",\"chewy\",\"Bubble\"]\n",
    "animal=[\"cat\",'dog','fish']\n",
    "age=[1,2,3]\n",
    "list(zip(name,animal,age))"
   ]
  },
  {
   "cell_type": "code",
   "execution_count": 3,
   "id": "a44b3dca",
   "metadata": {},
   "outputs": [
    {
     "name": "stdout",
     "output_type": "stream",
     "text": [
      "('snow', 'cat', 1)\n",
      "('chewy', 'dog', 2)\n",
      "('Bubble', 'fish', 3)\n"
     ]
    }
   ],
   "source": [
    "for i in list(zip(name,animal,age)):\n",
    "    print(i)"
   ]
  },
  {
   "cell_type": "code",
   "execution_count": 7,
   "id": "426b3019",
   "metadata": {},
   "outputs": [
    {
     "name": "stdout",
     "output_type": "stream",
     "text": [
      "cat\n",
      "dog\n",
      "fish\n"
     ]
    }
   ],
   "source": [
    "for i,_ in enumerate(name):#enumerate provides indexes to values of the lists\n",
    "    print(animal[i])"
   ]
  },
  {
   "cell_type": "code",
   "execution_count": 9,
   "id": "f7d23ea8",
   "metadata": {},
   "outputs": [
    {
     "data": {
      "text/plain": [
       "[65, 23, 19, 90]"
      ]
     },
     "execution_count": 9,
     "metadata": {},
     "output_type": "execute_result"
    }
   ],
   "source": [
    "lst=[23,65,19,90]\n",
    "lst[0],lst[1]=lst[1],lst[0]\n",
    "lst"
   ]
  },
  {
   "cell_type": "code",
   "execution_count": 11,
   "id": "20c39fe4",
   "metadata": {},
   "outputs": [
    {
     "data": {
      "text/plain": [
       "[1, 2, 3, 4, 5, 6, 7, 8, 9]"
      ]
     },
     "execution_count": 11,
     "metadata": {},
     "output_type": "execute_result"
    }
   ],
   "source": [
    "#program to check unique numbers in a list\n",
    "l1=[1,2,3,2,4,5,3,2,3,4,2,3,5,6,7,8,9]\n",
    "unique=[]\n",
    "for i in l1:\n",
    "    if i not in unique:\n",
    "        unique.append(i)\n",
    "unique"
   ]
  },
  {
   "cell_type": "code",
   "execution_count": 12,
   "id": "94ff3525",
   "metadata": {},
   "outputs": [],
   "source": [
    "#python program to create 5 random integers"
   ]
  },
  {
   "cell_type": "code",
   "execution_count": 14,
   "id": "8d1e2cc9",
   "metadata": {},
   "outputs": [
    {
     "data": {
      "text/plain": [
       "[79, 10, 22, 4, 23, 86, 85, 78, 83, 2, 22, 53, 60, 54, 100]"
      ]
     },
     "execution_count": 14,
     "metadata": {},
     "output_type": "execute_result"
    }
   ],
   "source": [
    "import random\n",
    "random.randint(0,100)#between 0 to 100 produce random integers\n",
    "l1=[]\n",
    "for i in range(15):\n",
    "    l1.append(random.randint(0,100))\n",
    "l1"
   ]
  },
  {
   "cell_type": "code",
   "execution_count": 15,
   "id": "0cc1cd4a",
   "metadata": {},
   "outputs": [
    {
     "data": {
      "text/plain": [
       "761"
      ]
     },
     "execution_count": 15,
     "metadata": {},
     "output_type": "execute_result"
    }
   ],
   "source": [
    "s=0#to store sum of the list\n",
    "for i in l1:\n",
    "    s+=i\n",
    "s"
   ]
  },
  {
   "cell_type": "code",
   "execution_count": 16,
   "id": "cc12cbbd",
   "metadata": {},
   "outputs": [
    {
     "data": {
      "text/plain": [
       "[10, 22, 4, 86, 78, 2, 22, 60, 54, 100]"
      ]
     },
     "execution_count": 16,
     "metadata": {},
     "output_type": "execute_result"
    }
   ],
   "source": [
    "lst_even=[]\n",
    "for i in l1:\n",
    "    if(i%2==0):\n",
    "        lst_even.append(i)\n",
    "lst_even"
   ]
  },
  {
   "cell_type": "code",
   "execution_count": 17,
   "id": "455587d9",
   "metadata": {},
   "outputs": [],
   "source": [
    "#sorting the names of the strings in a list based on the number of letter"
   ]
  },
  {
   "cell_type": "code",
   "execution_count": 20,
   "id": "ac05ab10",
   "metadata": {},
   "outputs": [
    {
     "data": {
      "text/plain": [
       "['pear', 'apple', 'banana', 'grapes']"
      ]
     },
     "execution_count": 20,
     "metadata": {},
     "output_type": "execute_result"
    }
   ],
   "source": [
    "word_list=[\"apple\",\"banana\",\"pear\",\"grapes\"]\n",
    "sorted(word_list,key=len)"
   ]
  },
  {
   "cell_type": "code",
   "execution_count": 21,
   "id": "2b1b67e0",
   "metadata": {},
   "outputs": [
    {
     "data": {
      "text/plain": [
       "['he', 'hi', 'banana']"
      ]
     },
     "execution_count": 21,
     "metadata": {},
     "output_type": "execute_result"
    }
   ],
   "source": [
    "#seperate the non-numeric values from a given list\n",
    "l1=[1,\"he\",34,\"hi\",\"banana\",233,45]\n",
    "result=[]\n",
    "for i in l1:\n",
    "    if not isinstance(i,(int,float)):\n",
    "        result.append(i)\n",
    "result"
   ]
  },
  {
   "cell_type": "code",
   "execution_count": 22,
   "id": "b148cb99",
   "metadata": {},
   "outputs": [
    {
     "data": {
      "text/plain": [
       "True"
      ]
     },
     "execution_count": 22,
     "metadata": {},
     "output_type": "execute_result"
    }
   ],
   "source": [
    "isinstance(2,int)#returns true if the value is of the given type"
   ]
  },
  {
   "cell_type": "code",
   "execution_count": 23,
   "id": "7325ce44",
   "metadata": {},
   "outputs": [
    {
     "data": {
      "text/plain": [
       "97"
      ]
     },
     "execution_count": 23,
     "metadata": {},
     "output_type": "execute_result"
    }
   ],
   "source": [
    "ord('a')#will return the ascii value of the character"
   ]
  },
  {
   "cell_type": "code",
   "execution_count": 24,
   "id": "6f680ea3",
   "metadata": {},
   "outputs": [
    {
     "name": "stdout",
     "output_type": "stream",
     "text": [
      "72\n",
      "101\n",
      "108\n",
      "108\n",
      "111\n",
      "32\n",
      "104\n",
      "111\n",
      "119\n",
      "32\n",
      "97\n",
      "114\n",
      "101\n",
      "32\n",
      "121\n",
      "111\n",
      "117\n",
      "63\n"
     ]
    }
   ],
   "source": [
    "str=\"Hello how are you?\"# to convert each character to its corresponding ascii value\n",
    "for i in str:\n",
    "    print(ord(i))"
   ]
  },
  {
   "cell_type": "code",
   "execution_count": 25,
   "id": "c6d9240a",
   "metadata": {},
   "outputs": [
    {
     "data": {
      "text/plain": [
       "[3, 4, 5]"
      ]
     },
     "execution_count": 25,
     "metadata": {},
     "output_type": "execute_result"
    }
   ],
   "source": [
    "#program to find common elements in 2 lists\n",
    "l1=[1,2,3,4,5]\n",
    "l2=[3,4,5,6,7]\n",
    "result=[]\n",
    "for i in l1:\n",
    "    if i in l2:\n",
    "        result.append(i)\n",
    "result"
   ]
  },
  {
   "cell_type": "code",
   "execution_count": null,
   "id": "b1023702",
   "metadata": {},
   "outputs": [],
   "source": [
    "m=[i for i in range(1,11) i%2==0]"
   ]
  }
 ],
 "metadata": {
  "kernelspec": {
   "display_name": "Python 3 (ipykernel)",
   "language": "python",
   "name": "python3"
  },
  "language_info": {
   "codemirror_mode": {
    "name": "ipython",
    "version": 3
   },
   "file_extension": ".py",
   "mimetype": "text/x-python",
   "name": "python",
   "nbconvert_exporter": "python",
   "pygments_lexer": "ipython3",
   "version": "3.9.12"
  }
 },
 "nbformat": 4,
 "nbformat_minor": 5
}
