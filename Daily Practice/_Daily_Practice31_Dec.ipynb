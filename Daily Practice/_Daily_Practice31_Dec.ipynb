{
 "cells": [
  {
   "cell_type": "code",
   "execution_count": 1,
   "id": "ae79bf39",
   "metadata": {},
   "outputs": [
    {
     "data": {
      "text/plain": [
       "True"
      ]
     },
     "execution_count": 1,
     "metadata": {},
     "output_type": "execute_result"
    }
   ],
   "source": [
    "#check if a element is in a list\n",
    "li=[1,2,3,'a','b','c']\n",
    "'a' in li"
   ]
  },
  {
   "cell_type": "code",
   "execution_count": 2,
   "id": "e2b2f812",
   "metadata": {},
   "outputs": [
    {
     "data": {
      "text/plain": [
       "[('snow', 'cat', 1), ('chewy', 'dog', 2), ('Bubble', 'fish', 3)]"
      ]
     },
     "execution_count": 2,
     "metadata": {},
     "output_type": "execute_result"
    }
   ],
   "source": [
    "name=[\"snow\",\"chewy\",\"Bubble\"]\n",
    "animal=[\"cat\",'dog','fish']\n",
    "age=[1,2,3]\n",
    "list(zip(name,animal,age))"
   ]
  },
  {
   "cell_type": "code",
   "execution_count": 3,
   "id": "a7986955",
   "metadata": {},
   "outputs": [
    {
     "name": "stdout",
     "output_type": "stream",
     "text": [
      "('snow', 'cat', 1)\n",
      "('chewy', 'dog', 2)\n",
      "('Bubble', 'fish', 3)\n"
     ]
    }
   ],
   "source": [
    "for i in list(zip(name,animal,age)):\n",
    "    print(i)"
   ]
  },
  {
   "cell_type": "code",
   "execution_count": 7,
   "id": "223a0fd1",
   "metadata": {},
   "outputs": [
    {
     "name": "stdout",
     "output_type": "stream",
     "text": [
      "cat\n",
      "dog\n",
      "fish\n"
     ]
    }
   ],
   "source": [
    "for i,_ in enumerate(name):#enumerate provides indexes to values of the lists\n",
    "    print(animal[i])"
   ]
  },
  {
   "cell_type": "code",
   "execution_count": 9,
   "id": "cdff4f15",
   "metadata": {},
   "outputs": [
    {
     "data": {
      "text/plain": [
       "[65, 23, 19, 90]"
      ]
     },
     "execution_count": 9,
     "metadata": {},
     "output_type": "execute_result"
    }
   ],
   "source": [
    "lst=[23,65,19,90]\n",
    "lst[0],lst[1]=lst[1],lst[0]\n",
    "lst"
   ]
  },
  {
   "cell_type": "code",
   "execution_count": 11,
   "id": "dcedd751",
   "metadata": {},
   "outputs": [
    {
     "data": {
      "text/plain": [
       "[1, 2, 3, 4, 5, 6, 7, 8, 9]"
      ]
     },
     "execution_count": 11,
     "metadata": {},
     "output_type": "execute_result"
    }
   ],
   "source": [
    "#program to check unique numbers in a list\n",
    "l1=[1,2,3,2,4,5,3,2,3,4,2,3,5,6,7,8,9]\n",
    "unique=[]\n",
    "for i in l1:\n",
    "    if i not in unique:\n",
    "        unique.append(i)\n",
    "unique"
   ]
  },
  {
   "cell_type": "code",
   "execution_count": 12,
   "id": "8b10fd57",
   "metadata": {},
   "outputs": [],
   "source": [
    "#python program to create 5 random integers"
   ]
  },
  {
   "cell_type": "code",
   "execution_count": 14,
   "id": "ee1e54ec",
   "metadata": {},
   "outputs": [
    {
     "data": {
      "text/plain": [
       "[79, 10, 22, 4, 23, 86, 85, 78, 83, 2, 22, 53, 60, 54, 100]"
      ]
     },
     "execution_count": 14,
     "metadata": {},
     "output_type": "execute_result"
    }
   ],
   "source": [
    "import random\n",
    "random.randint(0,100)#between 0 to 100 produce random integers\n",
    "l1=[]\n",
    "for i in range(15):\n",
    "    l1.append(random.randint(0,100))\n",
    "l1"
   ]
  },
  {
   "cell_type": "code",
   "execution_count": 15,
   "id": "51b39cf8",
   "metadata": {},
   "outputs": [
    {
     "data": {
      "text/plain": [
       "761"
      ]
     },
     "execution_count": 15,
     "metadata": {},
     "output_type": "execute_result"
    }
   ],
   "source": [
    "s=0#to store sum of the list\n",
    "for i in l1:\n",
    "    s+=i\n",
    "s"
   ]
  },
  {
   "cell_type": "code",
   "execution_count": 16,
   "id": "79ffe2f8",
   "metadata": {},
   "outputs": [
    {
     "data": {
      "text/plain": [
       "[10, 22, 4, 86, 78, 2, 22, 60, 54, 100]"
      ]
     },
     "execution_count": 16,
     "metadata": {},
     "output_type": "execute_result"
    }
   ],
   "source": [
    "lst_even=[]\n",
    "for i in l1:\n",
    "    if(i%2==0):\n",
    "        lst_even.append(i)\n",
    "lst_even"
   ]
  },
  {
   "cell_type": "code",
   "execution_count": 17,
   "id": "f8f1bd82",
   "metadata": {},
   "outputs": [],
   "source": [
    "#sorting the names of the strings in a list based on the number of letter"
   ]
  },
  {
   "cell_type": "code",
   "execution_count": 20,
   "id": "730fcfd6",
   "metadata": {},
   "outputs": [
    {
     "data": {
      "text/plain": [
       "['pear', 'apple', 'banana', 'grapes']"
      ]
     },
     "execution_count": 20,
     "metadata": {},
     "output_type": "execute_result"
    }
   ],
   "source": [
    "word_list=[\"apple\",\"banana\",\"pear\",\"grapes\"]\n",
    "sorted(word_list,key=len)"
   ]
  },
  {
   "cell_type": "code",
   "execution_count": 21,
   "id": "a81096d1",
   "metadata": {},
   "outputs": [
    {
     "data": {
      "text/plain": [
       "['he', 'hi', 'banana']"
      ]
     },
     "execution_count": 21,
     "metadata": {},
     "output_type": "execute_result"
    }
   ],
   "source": [
    "#seperate the non-numeric values from a given list\n",
    "l1=[1,\"he\",34,\"hi\",\"banana\",233,45]\n",
    "result=[]\n",
    "for i in l1:\n",
    "    if not isinstance(i,(int,float)):\n",
    "        result.append(i)\n",
    "result"
   ]
  },
  {
   "cell_type": "code",
   "execution_count": 22,
   "id": "563a937b",
   "metadata": {},
   "outputs": [
    {
     "data": {
      "text/plain": [
       "True"
      ]
     },
     "execution_count": 22,
     "metadata": {},
     "output_type": "execute_result"
    }
   ],
   "source": [
    "isinstance(2,int)#returns true if the value is of the given type"
   ]
  },
  {
   "cell_type": "code",
   "execution_count": 23,
   "id": "a8ecc39a",
   "metadata": {},
   "outputs": [
    {
     "data": {
      "text/plain": [
       "97"
      ]
     },
     "execution_count": 23,
     "metadata": {},
     "output_type": "execute_result"
    }
   ],
   "source": [
    "ord('a')#will return the ascii value of the character"
   ]
  },
  {
   "cell_type": "code",
   "execution_count": 24,
   "id": "3843b3e9",
   "metadata": {},
   "outputs": [
    {
     "name": "stdout",
     "output_type": "stream",
     "text": [
      "72\n",
      "101\n",
      "108\n",
      "108\n",
      "111\n",
      "32\n",
      "104\n",
      "111\n",
      "119\n",
      "32\n",
      "97\n",
      "114\n",
      "101\n",
      "32\n",
      "121\n",
      "111\n",
      "117\n",
      "63\n"
     ]
    }
   ],
   "source": [
    "str=\"Hello how are you?\"# to convert each character to its corresponding ascii value\n",
    "for i in str:\n",
    "    print(ord(i))"
   ]
  },
  {
   "cell_type": "code",
   "execution_count": 25,
   "id": "657f491b",
   "metadata": {},
   "outputs": [
    {
     "data": {
      "text/plain": [
       "[3, 4, 5]"
      ]
     },
     "execution_count": 25,
     "metadata": {},
     "output_type": "execute_result"
    }
   ],
   "source": [
    "#program to find common elements in 2 lists\n",
    "l1=[1,2,3,4,5]\n",
    "l2=[3,4,5,6,7]\n",
    "result=[]\n",
    "for i in l1:\n",
    "    if i in l2:\n",
    "        result.append(i)\n",
    "result"
   ]
  },
  {
   "cell_type": "code",
   "execution_count": 29,
   "id": "9a2861d9",
   "metadata": {},
   "outputs": [],
   "source": [
    "m=[i for i in range(1,11) if i%2==0]"
   ]
  },
  {
   "cell_type": "code",
   "execution_count": 30,
   "id": "76cb1cd8",
   "metadata": {},
   "outputs": [
    {
     "data": {
      "text/plain": [
       "[2, 4, 6, 8, 10]"
      ]
     },
     "execution_count": 30,
     "metadata": {},
     "output_type": "execute_result"
    }
   ],
   "source": [
    "m"
   ]
  },
  {
   "cell_type": "code",
   "execution_count": 37,
   "id": "f2010ea0",
   "metadata": {},
   "outputs": [],
   "source": [
    "m=[i**2 for i in range(1,20)]"
   ]
  },
  {
   "cell_type": "code",
   "execution_count": 38,
   "id": "d4d64fc8",
   "metadata": {},
   "outputs": [
    {
     "data": {
      "text/plain": [
       "[1,\n",
       " 4,\n",
       " 9,\n",
       " 16,\n",
       " 25,\n",
       " 36,\n",
       " 49,\n",
       " 64,\n",
       " 81,\n",
       " 100,\n",
       " 121,\n",
       " 144,\n",
       " 169,\n",
       " 196,\n",
       " 225,\n",
       " 256,\n",
       " 289,\n",
       " 324,\n",
       " 361]"
      ]
     },
     "execution_count": 38,
     "metadata": {},
     "output_type": "execute_result"
    }
   ],
   "source": [
    "m"
   ]
  },
  {
   "cell_type": "code",
   "execution_count": 41,
   "id": "a00d21fb",
   "metadata": {},
   "outputs": [
    {
     "data": {
      "text/plain": [
       "[(1, 10),\n",
       " (1, 20),\n",
       " (1, 30),\n",
       " (2, 10),\n",
       " (2, 20),\n",
       " (2, 30),\n",
       " (3, 10),\n",
       " (3, 20),\n",
       " (3, 30)]"
      ]
     },
     "execution_count": 41,
     "metadata": {},
     "output_type": "execute_result"
    }
   ],
   "source": [
    "lst1=[1,2,3]\n",
    "lst2=[10,20,30]\n",
    "res=[(i,j) for i in lst1 for j in lst2]\n",
    "res"
   ]
  },
  {
   "cell_type": "code",
   "execution_count": 42,
   "id": "fe6ec232",
   "metadata": {},
   "outputs": [
    {
     "data": {
      "text/plain": [
       "[(1, 2), ('a', 'b')]"
      ]
     },
     "execution_count": 42,
     "metadata": {},
     "output_type": "execute_result"
    }
   ],
   "source": [
    "#write a pythom to unzip  a list of tuples into individual lists\n",
    "list_of_tuples=[(1,'a'),(2,'b')]\n",
    "list(zip(*list_of_tuples))"
   ]
  },
  {
   "cell_type": "code",
   "execution_count": null,
   "id": "eb99f828",
   "metadata": {},
   "outputs": [],
   "source": []
  }
 ],
 "metadata": {
  "kernelspec": {
   "display_name": "Python 3 (ipykernel)",
   "language": "python",
   "name": "python3"
  },
  "language_info": {
   "codemirror_mode": {
    "name": "ipython",
    "version": 3
   },
   "file_extension": ".py",
   "mimetype": "text/x-python",
   "name": "python",
   "nbconvert_exporter": "python",
   "pygments_lexer": "ipython3",
   "version": "3.9.12"
  }
 },
 "nbformat": 4,
 "nbformat_minor": 5
}
