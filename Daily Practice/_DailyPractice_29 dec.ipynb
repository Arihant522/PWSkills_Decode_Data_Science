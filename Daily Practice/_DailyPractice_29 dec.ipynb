{
 "cells": [
  {
   "cell_type": "markdown",
   "id": "2e52b51c",
   "metadata": {},
   "source": [
    "# Strings and lists"
   ]
  },
  {
   "cell_type": "code",
   "execution_count": 4,
   "id": "1b32bb80",
   "metadata": {},
   "outputs": [
    {
     "name": "stdout",
     "output_type": "stream",
     "text": [
      "Enter your name  Arihant Jain\n",
      "Enter your age  21\n",
      "my name is Arihant Jain and age is 21\n",
      "My name is Arihant Jain and I am 21 years old\n"
     ]
    }
   ],
   "source": [
    "#format strings\n",
    "name=input(\"Enter your name  \")\n",
    "age=(int)(input(\"Enter your age  \"))\n",
    "print(f\"my name is {name} and age is {age}\") #fstrings\n",
    "print('My name is {} and I am {} years old'.format(name,age))"
   ]
  },
  {
   "cell_type": "code",
   "execution_count": 5,
   "id": "2769c157",
   "metadata": {},
   "outputs": [
    {
     "name": "stdout",
     "output_type": "stream",
     "text": [
      "My name is Arihant Jain and I am 21 years old\n"
     ]
    }
   ],
   "source": [
    "print('My name is {a} and I am {n} years old'.format(a=name,n=age))"
   ]
  },
  {
   "cell_type": "code",
   "execution_count": 6,
   "id": "461bf70d",
   "metadata": {},
   "outputs": [
    {
     "name": "stdout",
     "output_type": "stream",
     "text": [
      "The total cost price is 120 and the profit is 20 \n"
     ]
    }
   ],
   "source": [
    "cost=100\n",
    "profit=20\n",
    "print('The total cost price is {} and the profit is {} '.format(cost+profit,profit))"
   ]
  },
  {
   "cell_type": "code",
   "execution_count": 11,
   "id": "a71e219b",
   "metadata": {},
   "outputs": [
    {
     "name": "stdout",
     "output_type": "stream",
     "text": [
      "The total cost price is 120 and the profit is 20 \n"
     ]
    }
   ],
   "source": [
    "print(f'The total cost price is {cost+profit} and the profit is {profit} ')"
   ]
  },
  {
   "cell_type": "code",
   "execution_count": 7,
   "id": "b8b5d1a2",
   "metadata": {},
   "outputs": [
    {
     "data": {
      "text/plain": [
       "'1.993'"
      ]
     },
     "execution_count": 7,
     "metadata": {},
     "output_type": "execute_result"
    }
   ],
   "source": [
    "a=1.99333\n",
    "'{:.3f}'.format(a)#will round off to 3 decimal places"
   ]
  },
  {
   "cell_type": "code",
   "execution_count": 13,
   "id": "9b9d10d5",
   "metadata": {},
   "outputs": [
    {
     "data": {
      "text/plain": [
       "'1.993'"
      ]
     },
     "execution_count": 13,
     "metadata": {},
     "output_type": "execute_result"
    }
   ],
   "source": [
    "f'{a:.3f}'"
   ]
  },
  {
   "cell_type": "code",
   "execution_count": 8,
   "id": "debd255e",
   "metadata": {},
   "outputs": [
    {
     "data": {
      "text/plain": [
       "'5'"
      ]
     },
     "execution_count": 8,
     "metadata": {},
     "output_type": "execute_result"
    }
   ],
   "source": [
    "list1=[1,2,3,4,5] #we can call functions in format\n",
    "'{}'.format(max(list1))"
   ]
  },
  {
   "cell_type": "markdown",
   "id": "6a0cf7bc",
   "metadata": {},
   "source": [
    "# write a program to convert celcius to fahreneit with 2 decimal places using format function"
   ]
  },
  {
   "cell_type": "code",
   "execution_count": 9,
   "id": "0958ac94",
   "metadata": {},
   "outputs": [
    {
     "name": "stdout",
     "output_type": "stream",
     "text": [
      "Enter the temp24\n",
      "The fahreneit is 75.2\n"
     ]
    }
   ],
   "source": [
    "celsius=float(input(\"Enter the temp\"))\n",
    "result=\"The fahreneit is {}\".format(celsius*(9/5)+32)\n",
    "print(result)"
   ]
  },
  {
   "cell_type": "markdown",
   "id": "54952e80",
   "metadata": {},
   "source": [
    "# generate a table of powers"
   ]
  },
  {
   "cell_type": "code",
   "execution_count": 10,
   "id": "33de9d9b",
   "metadata": {},
   "outputs": [
    {
     "name": "stdout",
     "output_type": "stream",
     "text": [
      "1 1\n",
      "2 4\n",
      "3 9\n",
      "4 16\n",
      "5 25\n",
      "6 36\n",
      "7 49\n",
      "8 64\n",
      "9 81\n",
      "10 100\n"
     ]
    }
   ],
   "source": [
    "for i in range(1,11):\n",
    "    squared=i**2\n",
    "    print(i,squared)"
   ]
  },
  {
   "cell_type": "markdown",
   "id": "79530557",
   "metadata": {},
   "source": [
    "# List\n"
   ]
  },
  {
   "cell_type": "code",
   "execution_count": 14,
   "id": "6b579c4e",
   "metadata": {},
   "outputs": [
    {
     "data": {
      "text/plain": [
       "[1, 2, 3, 4, 5]"
      ]
     },
     "execution_count": 14,
     "metadata": {},
     "output_type": "execute_result"
    }
   ],
   "source": [
    "lst1=[1,2,3,4,5]\n",
    "lst1\n"
   ]
  },
  {
   "cell_type": "code",
   "execution_count": 15,
   "id": "9909197c",
   "metadata": {},
   "outputs": [
    {
     "data": {
      "text/plain": [
       "list"
      ]
     },
     "execution_count": 15,
     "metadata": {},
     "output_type": "execute_result"
    }
   ],
   "source": [
    "type(lst1)"
   ]
  },
  {
   "cell_type": "code",
   "execution_count": 16,
   "id": "f306fb28",
   "metadata": {},
   "outputs": [
    {
     "data": {
      "text/plain": [
       "[1, 2, 'jjh', 1.2]"
      ]
     },
     "execution_count": 16,
     "metadata": {},
     "output_type": "execute_result"
    }
   ],
   "source": [
    "mixed=[1,2,\"jjh\",1.2]#heterogeneous structure\n",
    "mixed"
   ]
  },
  {
   "cell_type": "code",
   "execution_count": 17,
   "id": "b87bd444",
   "metadata": {},
   "outputs": [
    {
     "data": {
      "text/plain": [
       "1"
      ]
     },
     "execution_count": 17,
     "metadata": {},
     "output_type": "execute_result"
    }
   ],
   "source": [
    "mixed[0]"
   ]
  },
  {
   "cell_type": "code",
   "execution_count": 18,
   "id": "90533133",
   "metadata": {},
   "outputs": [
    {
     "data": {
      "text/plain": [
       "[1, 2]"
      ]
     },
     "execution_count": 18,
     "metadata": {},
     "output_type": "execute_result"
    }
   ],
   "source": [
    "mixed[0:2]#slicing is possibel"
   ]
  },
  {
   "cell_type": "code",
   "execution_count": 19,
   "id": "92981feb",
   "metadata": {},
   "outputs": [
    {
     "data": {
      "text/plain": [
       "[1, 2, 'jjh', 1.2, 1, 2, 'jjh', 1.2, 1, 2, 'jjh', 1.2]"
      ]
     },
     "execution_count": 19,
     "metadata": {},
     "output_type": "execute_result"
    }
   ],
   "source": [
    "mixed*3\n",
    "#repetition by *"
   ]
  },
  {
   "cell_type": "code",
   "execution_count": 20,
   "id": "b2192261",
   "metadata": {},
   "outputs": [
    {
     "data": {
      "text/plain": [
       "True"
      ]
     },
     "execution_count": 20,
     "metadata": {},
     "output_type": "execute_result"
    }
   ],
   "source": [
    "# membership keywords\n",
    "1 in mixed"
   ]
  },
  {
   "cell_type": "code",
   "execution_count": 21,
   "id": "45f32e02",
   "metadata": {},
   "outputs": [
    {
     "data": {
      "text/plain": [
       "False"
      ]
     },
     "execution_count": 21,
     "metadata": {},
     "output_type": "execute_result"
    }
   ],
   "source": [
    "1 not in mixed"
   ]
  },
  {
   "cell_type": "code",
   "execution_count": 22,
   "id": "378edee9",
   "metadata": {},
   "outputs": [],
   "source": [
    "l=[23,1,0,12,45,-1,46]"
   ]
  },
  {
   "cell_type": "code",
   "execution_count": 23,
   "id": "58a57ef0",
   "metadata": {},
   "outputs": [
    {
     "data": {
      "text/plain": [
       "[23, 1, 0, 12, 45, -1, 46]"
      ]
     },
     "execution_count": 23,
     "metadata": {},
     "output_type": "execute_result"
    }
   ],
   "source": [
    "l"
   ]
  },
  {
   "cell_type": "code",
   "execution_count": 25,
   "id": "99f80f9e",
   "metadata": {},
   "outputs": [
    {
     "data": {
      "text/plain": [
       "[529, 1, 0, 144, 2025, 1, 2116]"
      ]
     },
     "execution_count": 25,
     "metadata": {},
     "output_type": "execute_result"
    }
   ],
   "source": [
    "for i in range(len(l)):\n",
    "    l[i]=l[i]**2\n",
    "l"
   ]
  },
  {
   "cell_type": "code",
   "execution_count": 28,
   "id": "4c621e8b",
   "metadata": {},
   "outputs": [
    {
     "data": {
      "text/plain": [
       "[1, 2, 3, [4, 5, 6]]"
      ]
     },
     "execution_count": 28,
     "metadata": {},
     "output_type": "execute_result"
    }
   ],
   "source": [
    "lst1=[1,2,3]\n",
    "lst2=[4,5,6]\n",
    "lst1.append(lst2)\n",
    "lst1"
   ]
  },
  {
   "cell_type": "code",
   "execution_count": 29,
   "id": "7bcf5853",
   "metadata": {},
   "outputs": [
    {
     "data": {
      "text/plain": [
       "[1, 2, 3, 4, 5, 6]"
      ]
     },
     "execution_count": 29,
     "metadata": {},
     "output_type": "execute_result"
    }
   ],
   "source": [
    "lst1=[1,2,3]\n",
    "lst2=[4,5,6]\n",
    "lst1.extend(lst2)\n",
    "lst1"
   ]
  },
  {
   "cell_type": "code",
   "execution_count": 30,
   "id": "ab51cd88",
   "metadata": {},
   "outputs": [
    {
     "data": {
      "text/plain": [
       "1"
      ]
     },
     "execution_count": 30,
     "metadata": {},
     "output_type": "execute_result"
    }
   ],
   "source": [
    "lst1.count(1)"
   ]
  },
  {
   "cell_type": "code",
   "execution_count": 31,
   "id": "f6a0981a",
   "metadata": {},
   "outputs": [],
   "source": [
    "lst2.insert(0,3)#(index,the value to insert)"
   ]
  },
  {
   "cell_type": "code",
   "execution_count": 32,
   "id": "ca296042",
   "metadata": {},
   "outputs": [
    {
     "data": {
      "text/plain": [
       "[3, 4, 5, 6]"
      ]
     },
     "execution_count": 32,
     "metadata": {},
     "output_type": "execute_result"
    }
   ],
   "source": [
    "lst2\n"
   ]
  },
  {
   "cell_type": "code",
   "execution_count": 33,
   "id": "b63b511d",
   "metadata": {},
   "outputs": [],
   "source": [
    "lst2.remove(3) #remove the occurence the first occurence of an element in the list"
   ]
  },
  {
   "cell_type": "code",
   "execution_count": 34,
   "id": "acfd22c6",
   "metadata": {},
   "outputs": [
    {
     "data": {
      "text/plain": [
       "[4, 5, 6]"
      ]
     },
     "execution_count": 34,
     "metadata": {},
     "output_type": "execute_result"
    }
   ],
   "source": [
    "lst2"
   ]
  },
  {
   "cell_type": "code",
   "execution_count": 35,
   "id": "205b6fe3",
   "metadata": {},
   "outputs": [
    {
     "data": {
      "text/plain": [
       "6"
      ]
     },
     "execution_count": 35,
     "metadata": {},
     "output_type": "execute_result"
    }
   ],
   "source": [
    "lst2.pop(2) #will remove the desired index and if no paramter is passed it will remove the last index"
   ]
  },
  {
   "cell_type": "code",
   "execution_count": 36,
   "id": "28656eb7",
   "metadata": {},
   "outputs": [
    {
     "data": {
      "text/plain": [
       "[4, 5]"
      ]
     },
     "execution_count": 36,
     "metadata": {},
     "output_type": "execute_result"
    }
   ],
   "source": [
    "lst2"
   ]
  },
  {
   "cell_type": "code",
   "execution_count": 37,
   "id": "d27c487d",
   "metadata": {},
   "outputs": [],
   "source": [
    "del lst2[0] # similar to pop but will not return the deleted element from the list "
   ]
  },
  {
   "cell_type": "code",
   "execution_count": 38,
   "id": "5da1ccb9",
   "metadata": {},
   "outputs": [
    {
     "data": {
      "text/plain": [
       "[6, 5, 4, 3, 2, 1]"
      ]
     },
     "execution_count": 38,
     "metadata": {},
     "output_type": "execute_result"
    }
   ],
   "source": [
    "lst1.reverse()\n",
    "lst1"
   ]
  },
  {
   "cell_type": "code",
   "execution_count": 39,
   "id": "791f5bdf",
   "metadata": {},
   "outputs": [
    {
     "data": {
      "text/plain": [
       "[2, 4]"
      ]
     },
     "execution_count": 39,
     "metadata": {},
     "output_type": "execute_result"
    }
   ],
   "source": [
    "l3=[1,2,2,3,4,4,5]\n",
    "duplicates=[]\n",
    "for i in l3:\n",
    "    if l3.count(i)>1 and i not in duplicates:\n",
    "        duplicates.append(i)\n",
    "duplicates"
   ]
  },
  {
   "cell_type": "code",
   "execution_count": 41,
   "id": "94188033",
   "metadata": {},
   "outputs": [
    {
     "data": {
      "text/plain": [
       "Counter({1: 1, 2: 2, 3: 1, 4: 2, 5: 1})"
      ]
     },
     "execution_count": 41,
     "metadata": {},
     "output_type": "execute_result"
    }
   ],
   "source": [
    "# using collections\n",
    "from collections import Counter\n",
    "c=Counter(l3)\n",
    "c"
   ]
  },
  {
   "cell_type": "code",
   "execution_count": 42,
   "id": "e49a423b",
   "metadata": {},
   "outputs": [
    {
     "name": "stdout",
     "output_type": "stream",
     "text": [
      "2\n",
      "4\n"
     ]
    }
   ],
   "source": [
    "for i,j in c.items():\n",
    "    if j>1:\n",
    "        print(i)"
   ]
  },
  {
   "cell_type": "markdown",
   "id": "9f1df246",
   "metadata": {},
   "source": [
    "# write a program which is a multiple of 7 but not a multiple of 5 and store it in a list"
   ]
  },
  {
   "cell_type": "code",
   "execution_count": 43,
   "id": "b69d0714",
   "metadata": {},
   "outputs": [
    {
     "data": {
      "text/plain": [
       "[203, 217, 224, 231, 238, 252, 259, 266, 273, 287, 294, 301, 308]"
      ]
     },
     "execution_count": 43,
     "metadata": {},
     "output_type": "execute_result"
    }
   ],
   "source": [
    "lst=[]\n",
    "for i in range(202,321):\n",
    "    if i%7==0 and i%5!=0:\n",
    "        lst.append(i)\n",
    "lst"
   ]
  },
  {
   "cell_type": "code",
   "execution_count": 45,
   "id": "58264cdf",
   "metadata": {},
   "outputs": [],
   "source": [
    "# for 3 dimensional list \n",
    "# list[block_index][row_index][col_index]"
   ]
  },
  {
   "cell_type": "code",
   "execution_count": null,
   "id": "9640fc79",
   "metadata": {},
   "outputs": [],
   "source": []
  }
 ],
 "metadata": {
  "kernelspec": {
   "display_name": "Python 3 (ipykernel)",
   "language": "python",
   "name": "python3"
  },
  "language_info": {
   "codemirror_mode": {
    "name": "ipython",
    "version": 3
   },
   "file_extension": ".py",
   "mimetype": "text/x-python",
   "name": "python",
   "nbconvert_exporter": "python",
   "pygments_lexer": "ipython3",
   "version": "3.9.12"
  }
 },
 "nbformat": 4,
 "nbformat_minor": 5
}
